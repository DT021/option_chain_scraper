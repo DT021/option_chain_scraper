{
 "cells": [
  {
   "cell_type": "markdown",
   "metadata": {},
   "source": [
    "# Import All Modules"
   ]
  },
  {
   "cell_type": "code",
   "execution_count": 34,
   "metadata": {},
   "outputs": [],
   "source": [
    "# Enable Intellisense for code assisatance and autocomplete\n",
    "%config IPCompleter.greedy=True\n",
    "\n",
    "#Install standard modules\n",
    "import pandas as pd\n",
    "import numpy as np\n",
    "\n",
    "# Time modules\n",
    "import datetime as dt\n",
    "import datetime\n",
    "from datetime import timedelta, date, datetime\n",
    "from dateutil.relativedelta import relativedelta\n",
    "import time\n",
    "\n",
    "# Progress bar modules\n",
    "from tqdm.notebook import tqdm\n",
    "\n",
    "# API modules\n",
    "import requests\n"
   ]
  },
  {
   "cell_type": "code",
   "execution_count": 35,
   "metadata": {},
   "outputs": [],
   "source": [
    "# Input AMeritrade API key\n",
    "api_key = open(\"Ameritrade_API_key.txt\", \"r\").read()"
   ]
  },
  {
   "cell_type": "markdown",
   "metadata": {},
   "source": [
    "# Function to check weekly options"
   ]
  },
  {
   "cell_type": "code",
   "execution_count": 36,
   "metadata": {},
   "outputs": [],
   "source": [
    "# Define empty dictionary\n",
    "interesting_trades  = {}\n",
    "tickers_without_weekly = []\n",
    "tickers_with_weekly = []\n",
    "\n",
    "# Define function to check for weekly options\n",
    "def weekly_option_chain_checker(ticker):\n",
    "    \n",
    "    # get today's date and date in 2 weeks\n",
    "    todays_date = date.today()\n",
    "    end_date = todays_date + timedelta(days=14)\n",
    "\n",
    "     # define our endpoint\n",
    "    endpoint = r\"https://api.tdameritrade.com/v1/marketdata/chains\"\n",
    "\n",
    "     # define our payload\n",
    "    payload = {'apikey' : api_key,\n",
    "               'symbol' : ticker,\n",
    "               'contractType':'ALL',\n",
    "               'includeQuotes':'FALSE',\n",
    "               'strategy':'SINGLE',\n",
    "               'strikeCount' : '1',\n",
    "               'fromDate':todays_date,\n",
    "               'toDate':end_date,\n",
    "               'optionType':'S'\n",
    "               }\n",
    "\n",
    "     # make a request\n",
    "    content = requests.get(url = endpoint, params = payload)\n",
    "\n",
    "    # convert it to dictionary\n",
    "    data = content.json()\n",
    "    \n",
    "    if data['status'] == 'FAILED':\n",
    "        pass\n",
    "    else:        \n",
    "        # Check if there are less then 4 put and call options in the next two weeks \n",
    "        # to check if the options are weekly\n",
    "        if data[\"numberOfContracts\"] < 4:\n",
    "            tickers_without_weekly.append(ticker)\n",
    "        else:\n",
    "            # Append ticker to list for next function\n",
    "            tickers_with_weekly.append(ticker)      \n",
    "        \n",
    "    # wait 0.5 second   \n",
    "    time.sleep(0.5)\n",
    "    return"
   ]
  },
  {
   "cell_type": "markdown",
   "metadata": {},
   "source": [
    "# Check for which stocks have weekly Options"
   ]
  },
  {
   "cell_type": "code",
   "execution_count": 37,
   "metadata": {},
   "outputs": [],
   "source": [
    "# List of all stocks\n",
    "stocks_df = pd.read_csv(\"list_of_all_stocks.csv\",index_col=0)\n",
    "list_all_tickers = stocks_df['ticker']\n",
    "list_all_tickers = np.unique(list_all_tickers)"
   ]
  },
  {
   "cell_type": "code",
   "execution_count": null,
   "metadata": {
    "scrolled": false
   },
   "outputs": [
    {
     "data": {
      "application/vnd.jupyter.widget-view+json": {
       "model_id": "a568f3afde1147839a7e971d246a6207",
       "version_major": 2,
       "version_minor": 0
      },
      "text/plain": [
       "HBox(children=(HTML(value=''), FloatProgress(value=0.0, max=7573.0), HTML(value='')))"
      ]
     },
     "metadata": {},
     "output_type": "display_data"
    }
   ],
   "source": [
    "# run the function to check tickers for weekly options and append into a new list\n",
    "for i in tqdm(list(list_all_tickers)):\n",
    "    try:\n",
    "        weekly_option_chain_checker(i)\n",
    "    except:\n",
    "        continue\n",
    "    "
   ]
  },
  {
   "cell_type": "markdown",
   "metadata": {},
   "source": [
    "### Save data from weekly check to CSV"
   ]
  },
  {
   "cell_type": "code",
   "execution_count": null,
   "metadata": {},
   "outputs": [],
   "source": [
    "weekly_stocks_to_check = pd.DataFrame(tickers_with_weekly)\n",
    "weekly_stocks_to_check.to_csv('weekly_stocks_to_check.csv')"
   ]
  }
 ],
 "metadata": {
  "kernelspec": {
   "display_name": "Python 3",
   "language": "python",
   "name": "python3"
  }
 },
 "nbformat": 4,
 "nbformat_minor": 4
}
